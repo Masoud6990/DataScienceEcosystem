{
  "metadata": {
    "language_info": {
      "codemirror_mode": {
        "name": "python",
        "version": 3
      },
      "file_extension": ".py",
      "mimetype": "text/x-python",
      "name": "python",
      "nbconvert_exporter": "python",
      "pygments_lexer": "ipython3",
      "version": "3.8"
    },
    "kernelspec": {
      "name": "python",
      "display_name": "Python (Pyodide)",
      "language": "python"
    }
  },
  "nbformat_minor": 4,
  "nbformat": 4,
  "cells": [
    {
      "cell_type": "markdown",
      "source": "# **Data Science Tools and Ecosystem**\n",
      "metadata": {}
    },
    {
      "cell_type": "markdown",
      "source": "In this notebook, Data Science Tools and Ecosystem are summarized.",
      "metadata": {}
    },
    {
      "cell_type": "markdown",
      "source": "**Objectives:**\n* List popular languages for Data Science.\n* List commonly used libraries used by Data Scientists\n* List some of Data Science Tools\n* Giving few examples of evaluating arithmetic expressions in Python",
      "metadata": {}
    },
    {
      "cell_type": "markdown",
      "source": "##Author: Masoud Amirrezai Haradsht",
      "metadata": {}
    },
    {
      "cell_type": "markdown",
      "source": "## Some of the popular languages that Data Scientists use are:",
      "metadata": {}
    },
    {
      "cell_type": "markdown",
      "source": "1. **Python**: Python is widely regarded as the most popular programming language for data science. Its simplicity and readability make it an excellent choice for tasks ranging from data analysis to machine learning.\n\n2. **R**: R is a programming language specifically designed for statistical computing and graphics. It provides a wide variety of statistical and graphical techniques, making it a favorite among statisticians and data analysts.\n\n3. **SQL**: Structured Query Language (SQL) is essential for working with relational databases. Data scientists frequently use SQL to extract, manipulate, and analyze data stored in databases. Proficiency in SQL is crucial for handling large datasets efficiently.\n\n4. **Julia**: Julia is a high-level, high-performance programming language for technical computing, with syntax that is familiar to users of other technical computing environments. It is often praised for its speed and is used for various numerical and computational tasks in data science.\n\n5. **Java**: Java is a versatile, object-oriented programming language that is widely used in big data technologies such as Apache Hadoop and Apache Spark. Data engineers and scientists working with large-scale data processing often use Java for building robust and scalable applications.\n",
      "metadata": {}
    },
    {
      "cell_type": "markdown",
      "source": "## Some of the commonly used libraries used by Data Scientists include:",
      "metadata": {}
    },
    {
      "cell_type": "markdown",
      "source": "1. **NumPy**: NumPy is a fundamental package for scientific computing with Python. It contains among other things a powerful N-dimensional array object and useful linear algebra capabilities, making it essential for performing mathematical and logical operations on arrays.\n\n2. **Pandas**: Pandas is a powerful data analysis and manipulation library for Python. It provides data structures like DataFrame and Series, which are designed for efficiently analyzing large datasets. Pandas are particularly useful for cleaning, transforming, and analyzing data.\n\n3. **Matplotlib**: Matplotlib is a comprehensive library for creating static, interactive, and animated visualizations in Python. It can be used to generate plots, histograms, power spectra, bar charts, error charts, scatterplots, etc., making it indispensable for data visualization tasks.\n\n4. **Scikit-Learn**: Scikit-Learn is a versatile machine learning library for Python. It features various classification, regression, and clustering algorithms, along with tools for model selection and evaluation, making it a go-to choice for many data scientists working on machine learning projects.\n\n5. **TensorFlow**: TensorFlow is an open-source machine learning library developed by the Google Brain team. It provides a comprehensive, flexible ecosystem of tools, libraries, and community resources that help researchers build and deploy machine learning-powered applications effectively.",
      "metadata": {}
    },
    {
      "cell_type": "markdown",
      "source": "|Data Science Tools         |\n|---------------------------|\n| Jupyter Notebook          |\n| RStudio                   |\n| Apache Zeppelin           |",
      "metadata": {}
    },
    {
      "cell_type": "markdown",
      "source": "### Below are a few examples of evaluating arithmetic expressions in Python.\n",
      "metadata": {}
    },
    {
      "cell_type": "code",
      "source": "# This is a simple arithmetic expression to multiply then add integers.\n(3 * 4) + 5",
      "metadata": {
        "trusted": true
      },
      "execution_count": 3,
      "outputs": [
        {
          "execution_count": 3,
          "output_type": "execute_result",
          "data": {
            "text/plain": "17"
          },
          "metadata": {}
        }
      ]
    },
    {
      "cell_type": "code",
      "source": "# This will convert 200 minutes to hours by dividing by 60.\n200 / 60\n",
      "metadata": {
        "trusted": true
      },
      "execution_count": 4,
      "outputs": [
        {
          "execution_count": 4,
          "output_type": "execute_result",
          "data": {
            "text/plain": "3.3333333333333335"
          },
          "metadata": {}
        }
      ]
    },
    {
      "cell_type": "code",
      "source": "",
      "metadata": {},
      "execution_count": null,
      "outputs": []
    }
  ]
}